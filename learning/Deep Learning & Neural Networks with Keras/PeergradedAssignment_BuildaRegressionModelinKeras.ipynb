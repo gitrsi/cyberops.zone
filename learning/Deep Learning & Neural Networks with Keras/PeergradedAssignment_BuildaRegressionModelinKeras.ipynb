{
 "cells": [
  {
   "cell_type": "markdown",
   "id": "5a4ba21d-8ddd-45aa-bb56-01fcca767cb8",
   "metadata": {},
   "source": [
    "<h1 align=center><font size = 5>Peer-graded Assignment: Build a Regression Model in Keras</font></h1>"
   ]
  },
  {
   "cell_type": "markdown",
   "id": "bf2bbeae-ba16-49b8-92d6-22b4046ed00d",
   "metadata": {},
   "source": [
    "<a id=\"title_introduction\"></a>\n",
    "# Introduction\n",
    "This notebook covers the peer-graded assignment: \"Build a Regression Model in Keras\" which concludes the course \"Introduction to Deep Learning & Neural Networks with Keras\". "
   ]
  },
  {
   "cell_type": "markdown",
   "id": "7494bcc7-c644-453c-bd58-6a83275a944a",
   "metadata": {},
   "source": [
    "<a id=\"title_objectives\"></a>\n",
    "# Objectives\n",
    "## A. Build a baseline model\n",
    "Use the Keras library to build a neural network with the following:\n",
    "- One hidden layer of 10 nodes, and a ReLU activation function\n",
    "- Use the adam optimizer and the mean squared error  as the loss function.\n",
    "\n",
    "1. Randomly split the data into a training and test sets by holding 30% of the data for testing. You can use the train_test_split helper function from Scikit-learn.\n",
    "2. Train the model on the training data using 50 epochs.\n",
    "3. Evaluate the model on the test data and compute the mean squared error between the predicted concrete strength and the actual concrete strength. You can use the mean_squared_error function from Scikit-learn.\n",
    "4. Repeat steps 1 - 3, 50 times, i.e., create a list of 50 mean squared errors.\n",
    "5. Report the mean and the standard deviation of the mean squared errors.\n",
    "\n",
    "## B. Normalize the data\n",
    "Repeat Part A but use a normalized version of the data. Recall that one way to normalize the data is by subtracting the mean from the individual predictors and dividing by the standard deviation.\n",
    "\n",
    "How does the mean of the mean squared errors compare to that from Step A?\n",
    "\n",
    "## C. Increase the number of epochs\n",
    "Repeat Part B but use 100 epochs this time for training.\n",
    "How does the mean of the mean squared errors compare to that from Step B?\n",
    "\n",
    "## D. Increase the number of hidden layers\n",
    "Repeat part B but use a neural network with the following instead:\n",
    "- Three hidden layers, each of 10 nodes and ReLU activation function.\n",
    "\n",
    "How does the mean of the mean squared errors compare to that from Step B?"
   ]
  },
  {
   "cell_type": "markdown",
   "id": "e1ecf3dd-64a5-4dc8-84c8-d2618a3a47a4",
   "metadata": {},
   "source": [
    "<a id=\"title_toc\"></a>\n",
    "# Table of contents"
   ]
  },
  {
   "cell_type": "markdown",
   "id": "6080e25b-b765-469d-8ae8-5af0332f0afb",
   "metadata": {},
   "source": [
    "- [Introduction](#title_introduction)\n",
    "- [Objectives](#title_objectives)\n",
    "- [Table of contents](#title_toc)\n",
    "- [Concrete compressive strength regression model](#main_title)\n",
    "    - [Init](#title_init)\n",
    "    - [Load and prepare data](#title_load)    \n",
    "    - [A Build a baseline model](#title_a)\n",
    "    - [B Normalize the data](#title_b)\n",
    "    - [C Increase the number of epochs](#title_c)\n",
    "    - [D Increase the number of hidden layers](#title_d)\n",
    " "
   ]
  },
  {
   "cell_type": "markdown",
   "id": "abcace52-f852-429f-a748-68e0d07fa953",
   "metadata": {},
   "source": [
    "# Concrete compressive strength regression model\n",
    "<a id=\"main_title\"></a>"
   ]
  },
  {
   "cell_type": "markdown",
   "id": "bb13ed29-32a7-4dd2-a570-0d6e155d620d",
   "metadata": {},
   "source": [
    "<a id=\"title_init\"></a>\n",
    "## Init"
   ]
  },
  {
   "cell_type": "code",
   "execution_count": 1,
   "id": "ed153a6a-8e16-469f-acb2-d48ed5b9dfe7",
   "metadata": {},
   "outputs": [],
   "source": [
    "# All Libraries required for this lab are listed below. The libraries pre-installed on Skills Network Labs are commented. \n",
    "# If you run this notebook on a different environment, e.g. your desktop, you may need to uncomment and install certain libraries.\n",
    "\n",
    "#!pip install numpy==1.21.4\n",
    "#!pip install pandas==1.3.4\n",
    "#!pip install keras==2.1.6\n",
    "#!pip install sklearn\n",
    "#!pip install matplotlib\n",
    "#!pip install warnings"
   ]
  },
  {
   "cell_type": "code",
   "execution_count": null,
   "id": "aa649a41-a285-4b4b-b91a-4bfb768291b8",
   "metadata": {
    "tags": []
   },
   "outputs": [],
   "source": [
    "import pandas as pd\n",
    "import numpy as np\n",
    "import keras\n",
    "from keras.models import Sequential\n",
    "from keras.layers import Dense\n",
    "from sklearn.model_selection import train_test_split\n",
    "from sklearn.metrics import mean_squared_error\n",
    "import matplotlib.pyplot as plt\n",
    "import warnings\n",
    "warnings.filterwarnings('ignore')"
   ]
  },
  {
   "cell_type": "markdown",
   "id": "6eaf378a-8a94-4fc5-bd83-610050288a69",
   "metadata": {},
   "source": [
    "<a id=\"title_load\"></a>\n",
    "## Load and prepare data"
   ]
  },
  {
   "cell_type": "markdown",
   "id": "f520e5c0-3c9f-49e8-9eca-35a87dc67175",
   "metadata": {},
   "source": [
    "### Get dataset"
   ]
  },
  {
   "cell_type": "code",
   "execution_count": 3,
   "id": "048c6257-db58-4fd5-8581-46aca9efd7a0",
   "metadata": {
    "tags": []
   },
   "outputs": [],
   "source": [
    "# Get Data\n",
    "concrete_data = pd.read_csv('https://cocl.us/concrete_data')"
   ]
  },
  {
   "cell_type": "markdown",
   "id": "586cd3a6-96f4-4e53-b90e-06181fca6aa8",
   "metadata": {},
   "source": [
    "### Data structure"
   ]
  },
  {
   "cell_type": "code",
   "execution_count": 4,
   "id": "6126e829-3ddc-43ec-a4b0-861a51ede47d",
   "metadata": {
    "tags": []
   },
   "outputs": [
    {
     "data": {
      "text/html": [
       "<div>\n",
       "<style scoped>\n",
       "    .dataframe tbody tr th:only-of-type {\n",
       "        vertical-align: middle;\n",
       "    }\n",
       "\n",
       "    .dataframe tbody tr th {\n",
       "        vertical-align: top;\n",
       "    }\n",
       "\n",
       "    .dataframe thead th {\n",
       "        text-align: right;\n",
       "    }\n",
       "</style>\n",
       "<table border=\"1\" class=\"dataframe\">\n",
       "  <thead>\n",
       "    <tr style=\"text-align: right;\">\n",
       "      <th></th>\n",
       "      <th>Cement</th>\n",
       "      <th>Blast Furnace Slag</th>\n",
       "      <th>Fly Ash</th>\n",
       "      <th>Water</th>\n",
       "      <th>Superplasticizer</th>\n",
       "      <th>Coarse Aggregate</th>\n",
       "      <th>Fine Aggregate</th>\n",
       "      <th>Age</th>\n",
       "      <th>Strength</th>\n",
       "    </tr>\n",
       "  </thead>\n",
       "  <tbody>\n",
       "    <tr>\n",
       "      <th>0</th>\n",
       "      <td>540.0</td>\n",
       "      <td>0.0</td>\n",
       "      <td>0.0</td>\n",
       "      <td>162.0</td>\n",
       "      <td>2.5</td>\n",
       "      <td>1040.0</td>\n",
       "      <td>676.0</td>\n",
       "      <td>28</td>\n",
       "      <td>79.99</td>\n",
       "    </tr>\n",
       "    <tr>\n",
       "      <th>1</th>\n",
       "      <td>540.0</td>\n",
       "      <td>0.0</td>\n",
       "      <td>0.0</td>\n",
       "      <td>162.0</td>\n",
       "      <td>2.5</td>\n",
       "      <td>1055.0</td>\n",
       "      <td>676.0</td>\n",
       "      <td>28</td>\n",
       "      <td>61.89</td>\n",
       "    </tr>\n",
       "    <tr>\n",
       "      <th>2</th>\n",
       "      <td>332.5</td>\n",
       "      <td>142.5</td>\n",
       "      <td>0.0</td>\n",
       "      <td>228.0</td>\n",
       "      <td>0.0</td>\n",
       "      <td>932.0</td>\n",
       "      <td>594.0</td>\n",
       "      <td>270</td>\n",
       "      <td>40.27</td>\n",
       "    </tr>\n",
       "    <tr>\n",
       "      <th>3</th>\n",
       "      <td>332.5</td>\n",
       "      <td>142.5</td>\n",
       "      <td>0.0</td>\n",
       "      <td>228.0</td>\n",
       "      <td>0.0</td>\n",
       "      <td>932.0</td>\n",
       "      <td>594.0</td>\n",
       "      <td>365</td>\n",
       "      <td>41.05</td>\n",
       "    </tr>\n",
       "    <tr>\n",
       "      <th>4</th>\n",
       "      <td>198.6</td>\n",
       "      <td>132.4</td>\n",
       "      <td>0.0</td>\n",
       "      <td>192.0</td>\n",
       "      <td>0.0</td>\n",
       "      <td>978.4</td>\n",
       "      <td>825.5</td>\n",
       "      <td>360</td>\n",
       "      <td>44.30</td>\n",
       "    </tr>\n",
       "  </tbody>\n",
       "</table>\n",
       "</div>"
      ],
      "text/plain": [
       "   Cement  Blast Furnace Slag  Fly Ash  Water  Superplasticizer  \\\n",
       "0   540.0                 0.0      0.0  162.0               2.5   \n",
       "1   540.0                 0.0      0.0  162.0               2.5   \n",
       "2   332.5               142.5      0.0  228.0               0.0   \n",
       "3   332.5               142.5      0.0  228.0               0.0   \n",
       "4   198.6               132.4      0.0  192.0               0.0   \n",
       "\n",
       "   Coarse Aggregate  Fine Aggregate  Age  Strength  \n",
       "0            1040.0           676.0   28     79.99  \n",
       "1            1055.0           676.0   28     61.89  \n",
       "2             932.0           594.0  270     40.27  \n",
       "3             932.0           594.0  365     41.05  \n",
       "4             978.4           825.5  360     44.30  "
      ]
     },
     "execution_count": 4,
     "metadata": {},
     "output_type": "execute_result"
    }
   ],
   "source": [
    "# Data preview\n",
    "concrete_data.head()"
   ]
  },
  {
   "cell_type": "code",
   "execution_count": 5,
   "id": "379266fe-e611-4109-95cd-9e36954a5cf9",
   "metadata": {
    "tags": []
   },
   "outputs": [
    {
     "data": {
      "text/plain": [
       "(1030, 9)"
      ]
     },
     "execution_count": 5,
     "metadata": {},
     "output_type": "execute_result"
    }
   ],
   "source": [
    "# Datapoints\n",
    "concrete_data.shape"
   ]
  },
  {
   "cell_type": "markdown",
   "id": "640fb005-3083-413e-9212-1d8ce39ddf64",
   "metadata": {},
   "source": [
    "The concrete dataset consists of 1030 rows with 9 columns.\n",
    "\n",
    "Predictors\n",
    "- Cement\n",
    "- Blast Furnace Slag\n",
    "- Fly Ash\n",
    "- Water\n",
    "- Superplasticizer\n",
    "- Coarse Aggregate\n",
    "- Fine Aggregate\n",
    "- Age\n",
    "\n",
    "Target\n",
    "- Strength"
   ]
  },
  {
   "cell_type": "markdown",
   "id": "d5ddeb54-a16d-4c21-befe-446bc992da24",
   "metadata": {},
   "source": [
    "### Check and cleanup"
   ]
  },
  {
   "cell_type": "markdown",
   "id": "86d9107a-8d0d-44d2-8f0e-7485424819ec",
   "metadata": {},
   "source": [
    "#### Data Statistics"
   ]
  },
  {
   "cell_type": "code",
   "execution_count": 6,
   "id": "445b8951-1c39-4b50-b22b-52a131173bc4",
   "metadata": {
    "tags": []
   },
   "outputs": [
    {
     "data": {
      "text/html": [
       "<div>\n",
       "<style scoped>\n",
       "    .dataframe tbody tr th:only-of-type {\n",
       "        vertical-align: middle;\n",
       "    }\n",
       "\n",
       "    .dataframe tbody tr th {\n",
       "        vertical-align: top;\n",
       "    }\n",
       "\n",
       "    .dataframe thead th {\n",
       "        text-align: right;\n",
       "    }\n",
       "</style>\n",
       "<table border=\"1\" class=\"dataframe\">\n",
       "  <thead>\n",
       "    <tr style=\"text-align: right;\">\n",
       "      <th></th>\n",
       "      <th>Cement</th>\n",
       "      <th>Blast Furnace Slag</th>\n",
       "      <th>Fly Ash</th>\n",
       "      <th>Water</th>\n",
       "      <th>Superplasticizer</th>\n",
       "      <th>Coarse Aggregate</th>\n",
       "      <th>Fine Aggregate</th>\n",
       "      <th>Age</th>\n",
       "      <th>Strength</th>\n",
       "    </tr>\n",
       "  </thead>\n",
       "  <tbody>\n",
       "    <tr>\n",
       "      <th>count</th>\n",
       "      <td>1030.000000</td>\n",
       "      <td>1030.000000</td>\n",
       "      <td>1030.000000</td>\n",
       "      <td>1030.000000</td>\n",
       "      <td>1030.000000</td>\n",
       "      <td>1030.000000</td>\n",
       "      <td>1030.000000</td>\n",
       "      <td>1030.000000</td>\n",
       "      <td>1030.000000</td>\n",
       "    </tr>\n",
       "    <tr>\n",
       "      <th>mean</th>\n",
       "      <td>281.167864</td>\n",
       "      <td>73.895825</td>\n",
       "      <td>54.188350</td>\n",
       "      <td>181.567282</td>\n",
       "      <td>6.204660</td>\n",
       "      <td>972.918932</td>\n",
       "      <td>773.580485</td>\n",
       "      <td>45.662136</td>\n",
       "      <td>35.817961</td>\n",
       "    </tr>\n",
       "    <tr>\n",
       "      <th>std</th>\n",
       "      <td>104.506364</td>\n",
       "      <td>86.279342</td>\n",
       "      <td>63.997004</td>\n",
       "      <td>21.354219</td>\n",
       "      <td>5.973841</td>\n",
       "      <td>77.753954</td>\n",
       "      <td>80.175980</td>\n",
       "      <td>63.169912</td>\n",
       "      <td>16.705742</td>\n",
       "    </tr>\n",
       "    <tr>\n",
       "      <th>min</th>\n",
       "      <td>102.000000</td>\n",
       "      <td>0.000000</td>\n",
       "      <td>0.000000</td>\n",
       "      <td>121.800000</td>\n",
       "      <td>0.000000</td>\n",
       "      <td>801.000000</td>\n",
       "      <td>594.000000</td>\n",
       "      <td>1.000000</td>\n",
       "      <td>2.330000</td>\n",
       "    </tr>\n",
       "    <tr>\n",
       "      <th>25%</th>\n",
       "      <td>192.375000</td>\n",
       "      <td>0.000000</td>\n",
       "      <td>0.000000</td>\n",
       "      <td>164.900000</td>\n",
       "      <td>0.000000</td>\n",
       "      <td>932.000000</td>\n",
       "      <td>730.950000</td>\n",
       "      <td>7.000000</td>\n",
       "      <td>23.710000</td>\n",
       "    </tr>\n",
       "    <tr>\n",
       "      <th>50%</th>\n",
       "      <td>272.900000</td>\n",
       "      <td>22.000000</td>\n",
       "      <td>0.000000</td>\n",
       "      <td>185.000000</td>\n",
       "      <td>6.400000</td>\n",
       "      <td>968.000000</td>\n",
       "      <td>779.500000</td>\n",
       "      <td>28.000000</td>\n",
       "      <td>34.445000</td>\n",
       "    </tr>\n",
       "    <tr>\n",
       "      <th>75%</th>\n",
       "      <td>350.000000</td>\n",
       "      <td>142.950000</td>\n",
       "      <td>118.300000</td>\n",
       "      <td>192.000000</td>\n",
       "      <td>10.200000</td>\n",
       "      <td>1029.400000</td>\n",
       "      <td>824.000000</td>\n",
       "      <td>56.000000</td>\n",
       "      <td>46.135000</td>\n",
       "    </tr>\n",
       "    <tr>\n",
       "      <th>max</th>\n",
       "      <td>540.000000</td>\n",
       "      <td>359.400000</td>\n",
       "      <td>200.100000</td>\n",
       "      <td>247.000000</td>\n",
       "      <td>32.200000</td>\n",
       "      <td>1145.000000</td>\n",
       "      <td>992.600000</td>\n",
       "      <td>365.000000</td>\n",
       "      <td>82.600000</td>\n",
       "    </tr>\n",
       "  </tbody>\n",
       "</table>\n",
       "</div>"
      ],
      "text/plain": [
       "            Cement  Blast Furnace Slag      Fly Ash        Water  \\\n",
       "count  1030.000000         1030.000000  1030.000000  1030.000000   \n",
       "mean    281.167864           73.895825    54.188350   181.567282   \n",
       "std     104.506364           86.279342    63.997004    21.354219   \n",
       "min     102.000000            0.000000     0.000000   121.800000   \n",
       "25%     192.375000            0.000000     0.000000   164.900000   \n",
       "50%     272.900000           22.000000     0.000000   185.000000   \n",
       "75%     350.000000          142.950000   118.300000   192.000000   \n",
       "max     540.000000          359.400000   200.100000   247.000000   \n",
       "\n",
       "       Superplasticizer  Coarse Aggregate  Fine Aggregate          Age  \\\n",
       "count       1030.000000       1030.000000     1030.000000  1030.000000   \n",
       "mean           6.204660        972.918932      773.580485    45.662136   \n",
       "std            5.973841         77.753954       80.175980    63.169912   \n",
       "min            0.000000        801.000000      594.000000     1.000000   \n",
       "25%            0.000000        932.000000      730.950000     7.000000   \n",
       "50%            6.400000        968.000000      779.500000    28.000000   \n",
       "75%           10.200000       1029.400000      824.000000    56.000000   \n",
       "max           32.200000       1145.000000      992.600000   365.000000   \n",
       "\n",
       "          Strength  \n",
       "count  1030.000000  \n",
       "mean     35.817961  \n",
       "std      16.705742  \n",
       "min       2.330000  \n",
       "25%      23.710000  \n",
       "50%      34.445000  \n",
       "75%      46.135000  \n",
       "max      82.600000  "
      ]
     },
     "execution_count": 6,
     "metadata": {},
     "output_type": "execute_result"
    }
   ],
   "source": [
    "# Data statistics\n",
    "concrete_data.describe()"
   ]
  },
  {
   "cell_type": "markdown",
   "id": "add07a03-7810-4677-92b4-b9a9f56cf7b8",
   "metadata": {},
   "source": [
    "#### Check for null values"
   ]
  },
  {
   "cell_type": "code",
   "execution_count": 7,
   "id": "c4cd1599-89fd-447e-a0d6-0d16ede03e97",
   "metadata": {
    "tags": []
   },
   "outputs": [
    {
     "data": {
      "text/plain": [
       "Cement                0\n",
       "Blast Furnace Slag    0\n",
       "Fly Ash               0\n",
       "Water                 0\n",
       "Superplasticizer      0\n",
       "Coarse Aggregate      0\n",
       "Fine Aggregate        0\n",
       "Age                   0\n",
       "Strength              0\n",
       "dtype: int64"
      ]
     },
     "execution_count": 7,
     "metadata": {},
     "output_type": "execute_result"
    }
   ],
   "source": [
    "# null values\n",
    "concrete_data.isnull().sum()"
   ]
  },
  {
   "cell_type": "markdown",
   "id": "0c1735e5-a792-40a3-aa9c-0294e3d3ea15",
   "metadata": {},
   "source": [
    "Data looks clean so far. The only thing we need to consider is not to overfit the model due to the low number of samples."
   ]
  },
  {
   "cell_type": "markdown",
   "id": "cc0ef39e-6602-4415-8b0f-faa2a0280185",
   "metadata": {},
   "source": [
    "### Predictors and target split\n",
    "The target in this model is the strength. All other columns are predictors."
   ]
  },
  {
   "cell_type": "code",
   "execution_count": 8,
   "id": "e7f78c5a-b3b4-4fc5-9ea3-6814bceca956",
   "metadata": {
    "tags": []
   },
   "outputs": [],
   "source": [
    "concrete_data_columns = concrete_data.columns\n",
    "\n",
    "predictors = concrete_data[concrete_data_columns[concrete_data_columns != 'Strength']] # predictors\n",
    "target = concrete_data['Strength'] # target"
   ]
  },
  {
   "cell_type": "markdown",
   "id": "25d2540e-0155-4c78-b4f8-83cab9696f19",
   "metadata": {},
   "source": [
    "### Sanity check"
   ]
  },
  {
   "cell_type": "code",
   "execution_count": 9,
   "id": "fadf9521-bf89-465d-9b55-0eb2dfcc582a",
   "metadata": {
    "tags": []
   },
   "outputs": [
    {
     "data": {
      "text/html": [
       "<div>\n",
       "<style scoped>\n",
       "    .dataframe tbody tr th:only-of-type {\n",
       "        vertical-align: middle;\n",
       "    }\n",
       "\n",
       "    .dataframe tbody tr th {\n",
       "        vertical-align: top;\n",
       "    }\n",
       "\n",
       "    .dataframe thead th {\n",
       "        text-align: right;\n",
       "    }\n",
       "</style>\n",
       "<table border=\"1\" class=\"dataframe\">\n",
       "  <thead>\n",
       "    <tr style=\"text-align: right;\">\n",
       "      <th></th>\n",
       "      <th>Cement</th>\n",
       "      <th>Blast Furnace Slag</th>\n",
       "      <th>Fly Ash</th>\n",
       "      <th>Water</th>\n",
       "      <th>Superplasticizer</th>\n",
       "      <th>Coarse Aggregate</th>\n",
       "      <th>Fine Aggregate</th>\n",
       "      <th>Age</th>\n",
       "    </tr>\n",
       "  </thead>\n",
       "  <tbody>\n",
       "    <tr>\n",
       "      <th>0</th>\n",
       "      <td>540.0</td>\n",
       "      <td>0.0</td>\n",
       "      <td>0.0</td>\n",
       "      <td>162.0</td>\n",
       "      <td>2.5</td>\n",
       "      <td>1040.0</td>\n",
       "      <td>676.0</td>\n",
       "      <td>28</td>\n",
       "    </tr>\n",
       "    <tr>\n",
       "      <th>1</th>\n",
       "      <td>540.0</td>\n",
       "      <td>0.0</td>\n",
       "      <td>0.0</td>\n",
       "      <td>162.0</td>\n",
       "      <td>2.5</td>\n",
       "      <td>1055.0</td>\n",
       "      <td>676.0</td>\n",
       "      <td>28</td>\n",
       "    </tr>\n",
       "    <tr>\n",
       "      <th>2</th>\n",
       "      <td>332.5</td>\n",
       "      <td>142.5</td>\n",
       "      <td>0.0</td>\n",
       "      <td>228.0</td>\n",
       "      <td>0.0</td>\n",
       "      <td>932.0</td>\n",
       "      <td>594.0</td>\n",
       "      <td>270</td>\n",
       "    </tr>\n",
       "    <tr>\n",
       "      <th>3</th>\n",
       "      <td>332.5</td>\n",
       "      <td>142.5</td>\n",
       "      <td>0.0</td>\n",
       "      <td>228.0</td>\n",
       "      <td>0.0</td>\n",
       "      <td>932.0</td>\n",
       "      <td>594.0</td>\n",
       "      <td>365</td>\n",
       "    </tr>\n",
       "    <tr>\n",
       "      <th>4</th>\n",
       "      <td>198.6</td>\n",
       "      <td>132.4</td>\n",
       "      <td>0.0</td>\n",
       "      <td>192.0</td>\n",
       "      <td>0.0</td>\n",
       "      <td>978.4</td>\n",
       "      <td>825.5</td>\n",
       "      <td>360</td>\n",
       "    </tr>\n",
       "  </tbody>\n",
       "</table>\n",
       "</div>"
      ],
      "text/plain": [
       "   Cement  Blast Furnace Slag  Fly Ash  Water  Superplasticizer  \\\n",
       "0   540.0                 0.0      0.0  162.0               2.5   \n",
       "1   540.0                 0.0      0.0  162.0               2.5   \n",
       "2   332.5               142.5      0.0  228.0               0.0   \n",
       "3   332.5               142.5      0.0  228.0               0.0   \n",
       "4   198.6               132.4      0.0  192.0               0.0   \n",
       "\n",
       "   Coarse Aggregate  Fine Aggregate  Age  \n",
       "0            1040.0           676.0   28  \n",
       "1            1055.0           676.0   28  \n",
       "2             932.0           594.0  270  \n",
       "3             932.0           594.0  365  \n",
       "4             978.4           825.5  360  "
      ]
     },
     "execution_count": 9,
     "metadata": {},
     "output_type": "execute_result"
    }
   ],
   "source": [
    "predictors.head()"
   ]
  },
  {
   "cell_type": "code",
   "execution_count": 10,
   "id": "a93385c6-1234-4ebc-8160-791d412ddc60",
   "metadata": {
    "tags": []
   },
   "outputs": [
    {
     "data": {
      "text/plain": [
       "0    79.99\n",
       "1    61.89\n",
       "2    40.27\n",
       "3    41.05\n",
       "4    44.30\n",
       "Name: Strength, dtype: float64"
      ]
     },
     "execution_count": 10,
     "metadata": {},
     "output_type": "execute_result"
    }
   ],
   "source": [
    "target.head()"
   ]
  },
  {
   "cell_type": "markdown",
   "id": "b1756b7f-9ec1-449d-869c-35fb6fa2ce62",
   "metadata": {},
   "source": [
    "Preserve the number of predictor columns to n_cols for use as size of the input shape in the neural network layer"
   ]
  },
  {
   "cell_type": "code",
   "execution_count": 11,
   "id": "3ab1c027-ca1b-400f-85bb-7b8469d8fcdc",
   "metadata": {},
   "outputs": [],
   "source": [
    "n_cols = predictors.shape[1] # number of predictor columns"
   ]
  },
  {
   "cell_type": "markdown",
   "id": "95d8300d-14e0-45c0-a737-edb3e42dbad5",
   "metadata": {},
   "source": [
    "<a id=\"title_a\"></a>\n",
    "## A. Build a baseline model\n",
    "Using the Keras library to build a neural network with the following:\n",
    "- One hidden layer of 10 nodes, and a ReLU activation function\n",
    "- Use the adam optimizer and the mean squared error as the loss function."
   ]
  },
  {
   "cell_type": "code",
   "execution_count": 12,
   "id": "f7923a9c-b447-4780-99bb-cab3e35bd274",
   "metadata": {},
   "outputs": [],
   "source": [
    "# define regression model with 1 hidden layer\n",
    "def regression_model_shallow():\n",
    "    # create model\n",
    "    model = Sequential()\n",
    "    model.add(Dense(10, activation='relu', input_shape=(n_cols,))) # One hidden layer of 10 nodes, and a ReLU activation function\n",
    "    model.add(Dense(1))\n",
    "    \n",
    "    # compile model\n",
    "    model.compile(optimizer='adam', loss='mean_squared_error') # adam optimizer and the mean squared error  as the loss function\n",
    "    return model"
   ]
  },
  {
   "cell_type": "markdown",
   "id": "92dd5c5b-79a3-4384-bf28-6ed7424c1ec3",
   "metadata": {},
   "source": [
    "### Train and test the model\n",
    "- Randomly split the data into a training and test sets by holding 30% of the data for testing using the __[train_test_split helper function from Scikit-learn](https://scikit-learn.org/stable/modules/generated/sklearn.model_selection.train_test_split.html)__.\n",
    "- Train the model on the training data using 50 epochs."
   ]
  },
  {
   "cell_type": "markdown",
   "id": "06717a1e-2811-43dc-bc9d-01a91d54d6fd",
   "metadata": {
    "tags": []
   },
   "source": [
    "#### Build and train the model"
   ]
  },
  {
   "cell_type": "markdown",
   "id": "720a56d3-6d7f-4470-b941-bc66965def20",
   "metadata": {
    "tags": []
   },
   "source": [
    "##### Build model"
   ]
  },
  {
   "cell_type": "code",
   "execution_count": 22,
   "id": "34d9425e-fba9-49e9-8470-12e710bf31e9",
   "metadata": {},
   "outputs": [],
   "source": [
    "# build the model\n",
    "model_shallow = regression_model_shallow()"
   ]
  },
  {
   "cell_type": "markdown",
   "id": "7f877acf-594f-459d-b336-8a511e398332",
   "metadata": {
    "tags": []
   },
   "source": [
    "##### Train/test split"
   ]
  },
  {
   "cell_type": "code",
   "execution_count": 23,
   "id": "d7fde3f6-bca6-46cd-8508-2cf1fc4e9b2d",
   "metadata": {},
   "outputs": [],
   "source": [
    "# train/test split\n",
    "X_train, X_test, y_train, y_test = train_test_split(\n",
    "    predictors, target, test_size=0.3, random_state=42\n",
    ")"
   ]
  },
  {
   "cell_type": "markdown",
   "id": "4a696c9c-d80e-429a-b304-d17c53047ea0",
   "metadata": {},
   "source": [
    "##### Fit/train model"
   ]
  },
  {
   "cell_type": "code",
   "execution_count": 32,
   "id": "02e994cc-9c24-4437-bc6d-d54f6159b696",
   "metadata": {},
   "outputs": [
    {
     "name": "stdout",
     "output_type": "stream",
     "text": [
      "Training of model complete\n"
     ]
    }
   ],
   "source": [
    "# fit the model\n",
    "# verbose is set to 0 for clarity, increase if needed\n",
    "model_shallow.fit(X_train, y_train, epochs=50, verbose=0) # train with training dataset and 50 epochs\n",
    "print(\"Training of model complete\")"
   ]
  },
  {
   "cell_type": "markdown",
   "id": "75a4c2d1-c957-42c0-8b1e-0f52f33bbaca",
   "metadata": {},
   "source": [
    "##### Evaluate model"
   ]
  },
  {
   "cell_type": "code",
   "execution_count": 33,
   "id": "cf718c14-0130-4382-9f7f-6eaae8848b3d",
   "metadata": {},
   "outputs": [
    {
     "name": "stdout",
     "output_type": "stream",
     "text": [
      "The mean squared error (MSE) on test set: 108.0046\n"
     ]
    }
   ],
   "source": [
    "mse = mean_squared_error(y_test, model_shallow.predict(X_test))\n",
    "print(\"The mean squared error (MSE) on test set: {:.4f}\".format(mse))"
   ]
  },
  {
   "cell_type": "markdown",
   "id": "21ad8c07-fc14-4110-a10a-b194831ee837",
   "metadata": {},
   "source": [
    "##### Repeat train and evaluation 50 times"
   ]
  },
  {
   "cell_type": "code",
   "execution_count": 34,
   "id": "ba73ab5b-4829-4008-8d15-adbf764a12d7",
   "metadata": {},
   "outputs": [
    {
     "name": "stdout",
     "output_type": "stream",
     "text": [
      "Iteration 1 of 50 training and evaluation of model complete. MSE is : 219.5063\n",
      "Iteration 2 of 50 training and evaluation of model complete. MSE is : 153.7259\n",
      "Iteration 3 of 50 training and evaluation of model complete. MSE is : 101.7380\n",
      "Iteration 4 of 50 training and evaluation of model complete. MSE is : 84.0032\n",
      "Iteration 5 of 50 training and evaluation of model complete. MSE is : 68.3440\n",
      "Iteration 6 of 50 training and evaluation of model complete. MSE is : 68.1712\n",
      "Iteration 7 of 50 training and evaluation of model complete. MSE is : 56.1508\n",
      "Iteration 8 of 50 training and evaluation of model complete. MSE is : 53.5310\n",
      "Iteration 9 of 50 training and evaluation of model complete. MSE is : 51.6848\n",
      "Iteration 10 of 50 training and evaluation of model complete. MSE is : 62.8450\n",
      "Iteration 11 of 50 training and evaluation of model complete. MSE is : 52.1895\n",
      "Iteration 12 of 50 training and evaluation of model complete. MSE is : 52.6880\n",
      "Iteration 13 of 50 training and evaluation of model complete. MSE is : 53.7538\n",
      "Iteration 14 of 50 training and evaluation of model complete. MSE is : 53.6197\n",
      "Iteration 15 of 50 training and evaluation of model complete. MSE is : 49.4458\n",
      "Iteration 16 of 50 training and evaluation of model complete. MSE is : 50.5723\n",
      "Iteration 17 of 50 training and evaluation of model complete. MSE is : 50.0690\n",
      "Iteration 18 of 50 training and evaluation of model complete. MSE is : 67.4489\n",
      "Iteration 19 of 50 training and evaluation of model complete. MSE is : 51.9760\n",
      "Iteration 20 of 50 training and evaluation of model complete. MSE is : 49.9777\n",
      "Iteration 21 of 50 training and evaluation of model complete. MSE is : 54.7799\n",
      "Iteration 22 of 50 training and evaluation of model complete. MSE is : 49.1573\n",
      "Iteration 23 of 50 training and evaluation of model complete. MSE is : 51.3613\n",
      "Iteration 24 of 50 training and evaluation of model complete. MSE is : 51.2266\n",
      "Iteration 25 of 50 training and evaluation of model complete. MSE is : 50.2348\n",
      "Iteration 26 of 50 training and evaluation of model complete. MSE is : 49.7137\n",
      "Iteration 27 of 50 training and evaluation of model complete. MSE is : 49.0915\n",
      "Iteration 28 of 50 training and evaluation of model complete. MSE is : 51.4784\n",
      "Iteration 29 of 50 training and evaluation of model complete. MSE is : 54.6104\n",
      "Iteration 30 of 50 training and evaluation of model complete. MSE is : 48.9522\n",
      "Iteration 31 of 50 training and evaluation of model complete. MSE is : 49.1236\n",
      "Iteration 32 of 50 training and evaluation of model complete. MSE is : 50.5122\n",
      "Iteration 33 of 50 training and evaluation of model complete. MSE is : 48.2797\n",
      "Iteration 34 of 50 training and evaluation of model complete. MSE is : 48.2655\n",
      "Iteration 35 of 50 training and evaluation of model complete. MSE is : 51.3065\n",
      "Iteration 36 of 50 training and evaluation of model complete. MSE is : 47.9302\n",
      "Iteration 37 of 50 training and evaluation of model complete. MSE is : 48.7076\n",
      "Iteration 38 of 50 training and evaluation of model complete. MSE is : 47.7510\n",
      "Iteration 39 of 50 training and evaluation of model complete. MSE is : 48.9218\n",
      "Iteration 40 of 50 training and evaluation of model complete. MSE is : 47.6427\n",
      "Iteration 41 of 50 training and evaluation of model complete. MSE is : 50.9460\n",
      "Iteration 42 of 50 training and evaluation of model complete. MSE is : 51.5066\n",
      "Iteration 43 of 50 training and evaluation of model complete. MSE is : 47.1553\n",
      "Iteration 44 of 50 training and evaluation of model complete. MSE is : 46.4583\n",
      "Iteration 45 of 50 training and evaluation of model complete. MSE is : 46.2725\n",
      "Iteration 46 of 50 training and evaluation of model complete. MSE is : 46.5159\n",
      "Iteration 47 of 50 training and evaluation of model complete. MSE is : 46.4476\n",
      "Iteration 48 of 50 training and evaluation of model complete. MSE is : 45.6158\n",
      "Iteration 49 of 50 training and evaluation of model complete. MSE is : 46.4512\n",
      "Iteration 50 of 50 training and evaluation of model complete. MSE is : 47.1575\n",
      "\n",
      "\n",
      "The mean deviation of the mean squared error (MSE) on regular test set: 58.5003\n",
      "The standard deviation of the mean squared error (MSE) on regular test set: 28.6796\n"
     ]
    }
   ],
   "source": [
    "# Train and evaluate 50 times and calculate mean and standard deviation of the mean squared errors\n",
    "\n",
    "# mean squared errors\n",
    "mses_50 = np.array([])\n",
    "\n",
    "# build the model\n",
    "model_50 = regression_model_shallow()\n",
    "\n",
    "for i in range(50):\n",
    "    # train/test split\n",
    "    X_train_50, X_test_50, y_train_50, y_test_50 = train_test_split(\n",
    "        predictors, target, test_size=0.3, random_state=42\n",
    "    )\n",
    "    \n",
    "    # fit the model\n",
    "    # verbose is set to 0 for clarity, increase if needed\n",
    "    model_50.fit(X_train_50, y_train_50, epochs=50, verbose=0) # train with training dataset and 50 epochs\n",
    "    # evaluate the model\n",
    "    mse_50 = mean_squared_error(y_test_50, model_50.predict(X_test_50))\n",
    "    mses_50 = np.append(mses_50, mse_50, axis=None)\n",
    "    print(\"Iteration \" + str(i+1) + \" of 50 training and evaluation of model complete. MSE is : {:.4f}\".format(mse_50))  \n",
    "\n",
    "model_50_mse_mean = np.mean(mses_50, axis=0)\n",
    "model_50_mse_std = np.std(mses_50, axis=0)\n",
    "\n",
    "print(\"\\n\")\n",
    "print(\"The mean deviation of the mean squared error (MSE) on regular test set: {:.4f}\".format(model_50_mse_mean))\n",
    "print(\"The standard deviation of the mean squared error (MSE) on regular test set: {:.4f}\".format(model_50_mse_std))"
   ]
  },
  {
   "cell_type": "markdown",
   "id": "4ae0a476-5a53-4654-80c8-3bd527d1be31",
   "metadata": {},
   "source": [
    "<a id=\"title_b\"></a>\n",
    "## B. Normalize the data\n",
    "Repeat Part A but use a normalized version of the data. Recall that one way to normalize the data is by subtracting the mean from the individual predictors and dividing by the standard deviation."
   ]
  },
  {
   "cell_type": "code",
   "execution_count": 35,
   "id": "ecbb2ffe-1b5c-4bf4-a929-f3ee289dcb91",
   "metadata": {
    "tags": []
   },
   "outputs": [
    {
     "data": {
      "text/html": [
       "<div>\n",
       "<style scoped>\n",
       "    .dataframe tbody tr th:only-of-type {\n",
       "        vertical-align: middle;\n",
       "    }\n",
       "\n",
       "    .dataframe tbody tr th {\n",
       "        vertical-align: top;\n",
       "    }\n",
       "\n",
       "    .dataframe thead th {\n",
       "        text-align: right;\n",
       "    }\n",
       "</style>\n",
       "<table border=\"1\" class=\"dataframe\">\n",
       "  <thead>\n",
       "    <tr style=\"text-align: right;\">\n",
       "      <th></th>\n",
       "      <th>Cement</th>\n",
       "      <th>Blast Furnace Slag</th>\n",
       "      <th>Fly Ash</th>\n",
       "      <th>Water</th>\n",
       "      <th>Superplasticizer</th>\n",
       "      <th>Coarse Aggregate</th>\n",
       "      <th>Fine Aggregate</th>\n",
       "      <th>Age</th>\n",
       "    </tr>\n",
       "  </thead>\n",
       "  <tbody>\n",
       "    <tr>\n",
       "      <th>0</th>\n",
       "      <td>2.476712</td>\n",
       "      <td>-0.856472</td>\n",
       "      <td>-0.846733</td>\n",
       "      <td>-0.916319</td>\n",
       "      <td>-0.620147</td>\n",
       "      <td>0.862735</td>\n",
       "      <td>-1.217079</td>\n",
       "      <td>-0.279597</td>\n",
       "    </tr>\n",
       "    <tr>\n",
       "      <th>1</th>\n",
       "      <td>2.476712</td>\n",
       "      <td>-0.856472</td>\n",
       "      <td>-0.846733</td>\n",
       "      <td>-0.916319</td>\n",
       "      <td>-0.620147</td>\n",
       "      <td>1.055651</td>\n",
       "      <td>-1.217079</td>\n",
       "      <td>-0.279597</td>\n",
       "    </tr>\n",
       "    <tr>\n",
       "      <th>2</th>\n",
       "      <td>0.491187</td>\n",
       "      <td>0.795140</td>\n",
       "      <td>-0.846733</td>\n",
       "      <td>2.174405</td>\n",
       "      <td>-1.038638</td>\n",
       "      <td>-0.526262</td>\n",
       "      <td>-2.239829</td>\n",
       "      <td>3.551340</td>\n",
       "    </tr>\n",
       "    <tr>\n",
       "      <th>3</th>\n",
       "      <td>0.491187</td>\n",
       "      <td>0.795140</td>\n",
       "      <td>-0.846733</td>\n",
       "      <td>2.174405</td>\n",
       "      <td>-1.038638</td>\n",
       "      <td>-0.526262</td>\n",
       "      <td>-2.239829</td>\n",
       "      <td>5.055221</td>\n",
       "    </tr>\n",
       "    <tr>\n",
       "      <th>4</th>\n",
       "      <td>-0.790075</td>\n",
       "      <td>0.678079</td>\n",
       "      <td>-0.846733</td>\n",
       "      <td>0.488555</td>\n",
       "      <td>-1.038638</td>\n",
       "      <td>0.070492</td>\n",
       "      <td>0.647569</td>\n",
       "      <td>4.976069</td>\n",
       "    </tr>\n",
       "  </tbody>\n",
       "</table>\n",
       "</div>"
      ],
      "text/plain": [
       "     Cement  Blast Furnace Slag   Fly Ash     Water  Superplasticizer  \\\n",
       "0  2.476712           -0.856472 -0.846733 -0.916319         -0.620147   \n",
       "1  2.476712           -0.856472 -0.846733 -0.916319         -0.620147   \n",
       "2  0.491187            0.795140 -0.846733  2.174405         -1.038638   \n",
       "3  0.491187            0.795140 -0.846733  2.174405         -1.038638   \n",
       "4 -0.790075            0.678079 -0.846733  0.488555         -1.038638   \n",
       "\n",
       "   Coarse Aggregate  Fine Aggregate       Age  \n",
       "0          0.862735       -1.217079 -0.279597  \n",
       "1          1.055651       -1.217079 -0.279597  \n",
       "2         -0.526262       -2.239829  3.551340  \n",
       "3         -0.526262       -2.239829  5.055221  \n",
       "4          0.070492        0.647569  4.976069  "
      ]
     },
     "execution_count": 35,
     "metadata": {},
     "output_type": "execute_result"
    }
   ],
   "source": [
    "# Normalize the data\n",
    "predictors_norm = (predictors - predictors.mean()) / predictors.std()\n",
    "predictors_norm.head()"
   ]
  },
  {
   "cell_type": "markdown",
   "id": "e3ca582a-f04c-4b18-88b9-0295bda5bce7",
   "metadata": {},
   "source": [
    "### Train and evaluation 50 times with normalized data"
   ]
  },
  {
   "cell_type": "code",
   "execution_count": 44,
   "id": "bc9114d3-06ed-41bb-a6bc-891f6c1c483a",
   "metadata": {
    "tags": []
   },
   "outputs": [
    {
     "name": "stdout",
     "output_type": "stream",
     "text": [
      "Iteration 1 of 50 training and evaluation of model complete. MSE is : 269.3064\n",
      "Iteration 2 of 50 training and evaluation of model complete. MSE is : 156.0901\n",
      "Iteration 3 of 50 training and evaluation of model complete. MSE is : 119.0294\n",
      "Iteration 4 of 50 training and evaluation of model complete. MSE is : 96.8622\n",
      "Iteration 5 of 50 training and evaluation of model complete. MSE is : 86.0621\n",
      "Iteration 6 of 50 training and evaluation of model complete. MSE is : 80.9014\n",
      "Iteration 7 of 50 training and evaluation of model complete. MSE is : 76.6929\n",
      "Iteration 8 of 50 training and evaluation of model complete. MSE is : 73.7722\n",
      "Iteration 9 of 50 training and evaluation of model complete. MSE is : 71.6907\n",
      "Iteration 10 of 50 training and evaluation of model complete. MSE is : 69.8330\n",
      "Iteration 11 of 50 training and evaluation of model complete. MSE is : 68.2849\n",
      "Iteration 12 of 50 training and evaluation of model complete. MSE is : 64.3630\n",
      "Iteration 13 of 50 training and evaluation of model complete. MSE is : 54.1880\n",
      "Iteration 14 of 50 training and evaluation of model complete. MSE is : 49.1336\n",
      "Iteration 15 of 50 training and evaluation of model complete. MSE is : 46.2773\n",
      "Iteration 16 of 50 training and evaluation of model complete. MSE is : 44.6195\n",
      "Iteration 17 of 50 training and evaluation of model complete. MSE is : 43.7947\n",
      "Iteration 18 of 50 training and evaluation of model complete. MSE is : 42.9117\n",
      "Iteration 19 of 50 training and evaluation of model complete. MSE is : 42.4867\n",
      "Iteration 20 of 50 training and evaluation of model complete. MSE is : 41.9306\n",
      "Iteration 21 of 50 training and evaluation of model complete. MSE is : 41.2590\n",
      "Iteration 22 of 50 training and evaluation of model complete. MSE is : 41.0262\n",
      "Iteration 23 of 50 training and evaluation of model complete. MSE is : 40.9560\n",
      "Iteration 24 of 50 training and evaluation of model complete. MSE is : 40.5965\n",
      "Iteration 25 of 50 training and evaluation of model complete. MSE is : 40.4258\n",
      "Iteration 26 of 50 training and evaluation of model complete. MSE is : 40.2729\n",
      "Iteration 27 of 50 training and evaluation of model complete. MSE is : 40.1424\n",
      "Iteration 28 of 50 training and evaluation of model complete. MSE is : 39.8980\n",
      "Iteration 29 of 50 training and evaluation of model complete. MSE is : 39.8382\n",
      "Iteration 30 of 50 training and evaluation of model complete. MSE is : 39.7707\n",
      "Iteration 31 of 50 training and evaluation of model complete. MSE is : 39.7385\n",
      "Iteration 32 of 50 training and evaluation of model complete. MSE is : 39.5592\n",
      "Iteration 33 of 50 training and evaluation of model complete. MSE is : 39.5223\n",
      "Iteration 34 of 50 training and evaluation of model complete. MSE is : 39.6454\n",
      "Iteration 35 of 50 training and evaluation of model complete. MSE is : 39.5819\n",
      "Iteration 36 of 50 training and evaluation of model complete. MSE is : 39.4570\n",
      "Iteration 37 of 50 training and evaluation of model complete. MSE is : 39.6325\n",
      "Iteration 38 of 50 training and evaluation of model complete. MSE is : 39.3156\n",
      "Iteration 39 of 50 training and evaluation of model complete. MSE is : 39.4964\n",
      "Iteration 40 of 50 training and evaluation of model complete. MSE is : 39.1708\n",
      "Iteration 41 of 50 training and evaluation of model complete. MSE is : 39.2422\n",
      "Iteration 42 of 50 training and evaluation of model complete. MSE is : 39.2903\n",
      "Iteration 43 of 50 training and evaluation of model complete. MSE is : 39.0537\n",
      "Iteration 44 of 50 training and evaluation of model complete. MSE is : 38.8399\n",
      "Iteration 45 of 50 training and evaluation of model complete. MSE is : 39.1848\n",
      "Iteration 46 of 50 training and evaluation of model complete. MSE is : 38.6926\n",
      "Iteration 47 of 50 training and evaluation of model complete. MSE is : 39.0268\n",
      "Iteration 48 of 50 training and evaluation of model complete. MSE is : 38.9168\n",
      "Iteration 49 of 50 training and evaluation of model complete. MSE is : 38.9176\n",
      "Iteration 50 of 50 training and evaluation of model complete. MSE is : 38.9876\n",
      "\n",
      "\n",
      "The mean deviation of the mean squared error (MSE) on normalized test set: 55.7538\n",
      "The standard deviation of the mean squared error (MSE) on normalized test set: 38.2342\n"
     ]
    }
   ],
   "source": [
    "# Train and evaluate 50 times and calculate mean and standard deviation of the mean squared errors\n",
    "\n",
    "# mean squared errors\n",
    "mses_50_norm = np.array([])\n",
    "\n",
    "# build the model\n",
    "model_50_norm = regression_model_shallow()\n",
    "\n",
    "for i in range(50):\n",
    "    # train/test split\n",
    "    X_train_50_norm, X_test_50_norm, y_train_50, y_test_50 = train_test_split(\n",
    "        predictors_norm, target, test_size=0.3, random_state=42\n",
    "    )\n",
    "\n",
    "    # fit the model\n",
    "    # verbose is set to 0 for clarity, increase if needed\n",
    "    model_50_norm.fit(X_train_50_norm, y_train_50, epochs=50, verbose=0) # train with normalized training dataset and 50 epochs\n",
    "    # evaluate the model\n",
    "    mse_50_norm = mean_squared_error(y_test_50, model_50_norm.predict(X_test_50_norm))\n",
    "    mses_50_norm = np.append(mses_50_norm, mse_50_norm, axis=None)\n",
    "    print(\"Iteration \" + str(i+1) + \" of 50 training and evaluation of model complete. MSE is : {:.4f}\".format(mse_50_norm))  \n",
    "\n",
    "model_50_norm_mse_mean = np.mean(mses_50_norm, axis=0)\n",
    "model_50_norm_mse_std = np.std(mses_50_norm, axis=0)\n",
    "    \n",
    "print(\"\\n\")\n",
    "print(\"The mean deviation of the mean squared error (MSE) on normalized test set: {:.4f}\".format(model_50_norm_mse_mean))\n",
    "print(\"The standard deviation of the mean squared error (MSE) on normalized test set: {:.4f}\".format(model_50_norm_mse_std))"
   ]
  },
  {
   "cell_type": "markdown",
   "id": "bf4eda9d-5a50-454c-baf3-74e2217ceb11",
   "metadata": {},
   "source": [
    "#### Compare the decrease of mean squared errors between regular and normalized data"
   ]
  },
  {
   "cell_type": "code",
   "execution_count": 45,
   "id": "7520fe55-9f42-4965-80b5-d8f11dbedf9e",
   "metadata": {},
   "outputs": [
    {
     "data": {
      "image/png": "[encoded data removed]",
      "text/plain": [
       "<Figure size 640x480 with 1 Axes>"
      ]
     },
     "metadata": {},
     "output_type": "display_data"
    }
   ],
   "source": [
    "# Plott MSE for regular vs. normalized data\n",
    "\n",
    "regular_MSEs = mses_50\n",
    "normalized_MSEs = mses_50_norm\n",
    "iterations = np.arange(50)\n",
    "\n",
    "plt.title(\"Mean squared error (MSE) on regular vs. normalized data \")\n",
    "plt.xlabel(\"Training iteration\")\n",
    "plt.ylabel(\"Mean squared error (MSE)\")\n",
    "plt.grid(True)\n",
    "\n",
    "plt.scatter(iterations, regular_MSEs, color=\"orange\",label=\"Regular MSEs\")\n",
    "plt.scatter(iterations, normalized_MSEs, color=\"green\",label=\"Normalized MSEs\",)\n",
    "plt.legend()\n",
    "plt.show()"
   ]
  },
  {
   "cell_type": "markdown",
   "id": "6b57ebf4-6576-4269-9132-315ef678b71a",
   "metadata": {},
   "source": [
    "#### Compare the mean of the mean squared errors between A and B\n",
    "\n",
    "When comparing A and B we observe the following:\n",
    "- the mean of the mean squared errors with normalized data in B is lower then in A with regular data\n",
    "- the model with the normalized data in B has the lower MSEs than in A\n",
    "- generally the mean squared errors decrease with more training iterations\n",
    "- there is a limit of training iterations in both models where more iterations do not contribute to more accuracy\n",
    "- model A reaches the limit much earlier\n",
    "\n",
    "> With normalized data we observe more accurate predictions in our constellation.\n",
    "Due to the different scales for each of the features in the dataset normalizing all features in the same range balances the influence of the features on the results."
   ]
  },
  {
   "cell_type": "markdown",
   "id": "b4b5ae47-02f9-4ae6-ba70-a3bdeab10bd8",
   "metadata": {},
   "source": [
    "<a id=\"title_c\"></a>\n",
    "## C. Increase the number of epochs\n",
    "Repeat Part B but use 100 epochs this time for training. How does the mean of the mean squared errors compare to that from Step B?"
   ]
  },
  {
   "cell_type": "markdown",
   "id": "9d6bf627-ee54-4672-a059-f783cf86d61c",
   "metadata": {},
   "source": [
    "### Train and evaluation 50 times with 100 epochs each on normalized data"
   ]
  },
  {
   "cell_type": "code",
   "execution_count": 47,
   "id": "ac7ec548-9859-4134-a971-4a2549c8d090",
   "metadata": {
    "tags": []
   },
   "outputs": [
    {
     "name": "stdout",
     "output_type": "stream",
     "text": [
      "Iteration 1 of 50 training and evaluation of model complete. MSE is : 161.9975\n",
      "Iteration 2 of 50 training and evaluation of model complete. MSE is : 91.2168\n",
      "Iteration 3 of 50 training and evaluation of model complete. MSE is : 57.9614\n",
      "Iteration 4 of 50 training and evaluation of model complete. MSE is : 49.1907\n",
      "Iteration 5 of 50 training and evaluation of model complete. MSE is : 45.1240\n",
      "Iteration 6 of 50 training and evaluation of model complete. MSE is : 43.2390\n",
      "Iteration 7 of 50 training and evaluation of model complete. MSE is : 41.4648\n",
      "Iteration 8 of 50 training and evaluation of model complete. MSE is : 40.5604\n",
      "Iteration 9 of 50 training and evaluation of model complete. MSE is : 39.8721\n",
      "Iteration 10 of 50 training and evaluation of model complete. MSE is : 39.0744\n",
      "Iteration 11 of 50 training and evaluation of model complete. MSE is : 38.7332\n",
      "Iteration 12 of 50 training and evaluation of model complete. MSE is : 38.4590\n",
      "Iteration 13 of 50 training and evaluation of model complete. MSE is : 38.0430\n",
      "Iteration 14 of 50 training and evaluation of model complete. MSE is : 37.8424\n",
      "Iteration 15 of 50 training and evaluation of model complete. MSE is : 37.7133\n",
      "Iteration 16 of 50 training and evaluation of model complete. MSE is : 37.4397\n",
      "Iteration 17 of 50 training and evaluation of model complete. MSE is : 37.0021\n",
      "Iteration 18 of 50 training and evaluation of model complete. MSE is : 36.7907\n",
      "Iteration 19 of 50 training and evaluation of model complete. MSE is : 36.5450\n",
      "Iteration 20 of 50 training and evaluation of model complete. MSE is : 36.0127\n",
      "Iteration 21 of 50 training and evaluation of model complete. MSE is : 36.1351\n",
      "Iteration 22 of 50 training and evaluation of model complete. MSE is : 36.1861\n",
      "Iteration 23 of 50 training and evaluation of model complete. MSE is : 36.0551\n",
      "Iteration 24 of 50 training and evaluation of model complete. MSE is : 36.3809\n",
      "Iteration 25 of 50 training and evaluation of model complete. MSE is : 35.9809\n",
      "Iteration 26 of 50 training and evaluation of model complete. MSE is : 36.0364\n",
      "Iteration 27 of 50 training and evaluation of model complete. MSE is : 35.9417\n",
      "Iteration 28 of 50 training and evaluation of model complete. MSE is : 35.8475\n",
      "Iteration 29 of 50 training and evaluation of model complete. MSE is : 35.8170\n",
      "Iteration 30 of 50 training and evaluation of model complete. MSE is : 36.0065\n",
      "Iteration 31 of 50 training and evaluation of model complete. MSE is : 35.9876\n",
      "Iteration 32 of 50 training and evaluation of model complete. MSE is : 35.9295\n",
      "Iteration 33 of 50 training and evaluation of model complete. MSE is : 35.7594\n",
      "Iteration 34 of 50 training and evaluation of model complete. MSE is : 35.6238\n",
      "Iteration 35 of 50 training and evaluation of model complete. MSE is : 35.6943\n",
      "Iteration 36 of 50 training and evaluation of model complete. MSE is : 35.6877\n",
      "Iteration 37 of 50 training and evaluation of model complete. MSE is : 35.8248\n",
      "Iteration 38 of 50 training and evaluation of model complete. MSE is : 35.8381\n",
      "Iteration 39 of 50 training and evaluation of model complete. MSE is : 36.1659\n",
      "Iteration 40 of 50 training and evaluation of model complete. MSE is : 35.8512\n",
      "Iteration 41 of 50 training and evaluation of model complete. MSE is : 35.8668\n",
      "Iteration 42 of 50 training and evaluation of model complete. MSE is : 35.9425\n",
      "Iteration 43 of 50 training and evaluation of model complete. MSE is : 35.9386\n",
      "Iteration 44 of 50 training and evaluation of model complete. MSE is : 35.7002\n",
      "Iteration 45 of 50 training and evaluation of model complete. MSE is : 35.5127\n",
      "Iteration 46 of 50 training and evaluation of model complete. MSE is : 35.8984\n",
      "Iteration 47 of 50 training and evaluation of model complete. MSE is : 35.8061\n",
      "Iteration 48 of 50 training and evaluation of model complete. MSE is : 35.8858\n",
      "Iteration 49 of 50 training and evaluation of model complete. MSE is : 35.6767\n",
      "Iteration 50 of 50 training and evaluation of model complete. MSE is : 35.5289\n",
      "\n",
      "\n",
      "The mean deviation of the mean squared error (MSE) on normalized test set with 100 epochs: 41.2158\n",
      "The standard deviation of the mean squared error (MSE) on normalized test set with 100 epochs: 19.2149\n"
     ]
    }
   ],
   "source": [
    "# build the model\n",
    "model_100_norm = regression_model_shallow()\n",
    "\n",
    "# Train and evaluate 50 times and calculate mean and standard deviation of the mean squared errors\n",
    "\n",
    "# mean squared errors\n",
    "mses_100_norm = np.array([])\n",
    "\n",
    "for i in range(50):\n",
    "    # train/test split\n",
    "    X_train_100_norm, X_test_100_norm, y_train_100, y_test_100 = train_test_split(\n",
    "        predictors_norm, target, test_size=0.3, random_state=42\n",
    "    )\n",
    "\n",
    "    # fit the model\n",
    "    # verbose is set to 0 for clarity, increase if needed\n",
    "    model_100_norm.fit(X_train_100_norm, y_train_100, epochs=100, verbose=0) # train with normalized training dataset and 50 epochs\n",
    "    # evaluate the model\n",
    "    mse_100_norm = mean_squared_error(y_test_100, model_100_norm.predict(X_test_100_norm))\n",
    "    mses_100_norm = np.append(mses_100_norm, mse_100_norm, axis=None)\n",
    "    print(\"Iteration \" + str(i+1) + \" of 50 training and evaluation of model complete. MSE is : {:.4f}\".format(mse_100_norm))  \n",
    "\n",
    "model_100_norm_mse_mean = np.mean(mses_100_norm, axis=0)\n",
    "model_100_norm_mse_std = np.std(mses_100_norm, axis=0)\n",
    "    \n",
    "print(\"\\n\")\n",
    "print(\"The mean deviation of the mean squared error (MSE) on normalized test set with 100 epochs: {:.4f}\".format(model_100_norm_mse_mean))\n",
    "print(\"The standard deviation of the mean squared error (MSE) on normalized test set with 100 epochs: {:.4f}\".format(model_100_norm_mse_std))"
   ]
  },
  {
   "cell_type": "markdown",
   "id": "5c24bce0-afe3-4ab1-b4cb-72955869c4b5",
   "metadata": {},
   "source": [
    "#### Compare the decrease of mean squared errors between 50 and 100 epoch model"
   ]
  },
  {
   "cell_type": "code",
   "execution_count": 48,
   "id": "c3f19367-e04f-401f-a6a7-27d3b3c1fe07",
   "metadata": {
    "tags": []
   },
   "outputs": [
    {
     "data": {
      "image/png": "[encoded data removed]",
      "text/plain": [
       "<Figure size 640x480 with 1 Axes>"
      ]
     },
     "metadata": {},
     "output_type": "display_data"
    }
   ],
   "source": [
    "# Plott MSE for 50 vs. 100 epoch training\n",
    "\n",
    "epoch_50_MSEs = mses_50_norm\n",
    "epoch_100_MSEs = mses_100_norm\n",
    "iterations = np.arange(50)\n",
    "\n",
    "plt.title(\"Mean squared error (MSE) on 50 epochs vs. 100 epochs model \")\n",
    "plt.xlabel(\"Training iteration\")\n",
    "plt.ylabel(\"Mean squared error (MSE)\")\n",
    "plt.grid(True)\n",
    "\n",
    "plt.scatter(iterations, epoch_50_MSEs, color=\"orange\", label=\"50 epochs MSEs\")\n",
    "plt.scatter(iterations, epoch_100_MSEs, color=\"green\", label=\"100 epochs MSEs\")\n",
    "plt.legend()\n",
    "plt.show()"
   ]
  },
  {
   "cell_type": "markdown",
   "id": "bc07810c-238a-4a1d-baed-e25f03b43ed9",
   "metadata": {},
   "source": [
    "#### Compare the mean of the mean squared errors between B and C\n",
    "\n",
    "When comparing C and B we observe the following:\n",
    "- the mean of the mean squared errors with 100 epochs in C is lower then in B with 50 epochs\n",
    "- the model with 100 epochs in C has the lower MSEs than in B\n",
    "- the model \"learns\" faster with more epochs, the MSEs decrease using less training iterations\n",
    "- there is a limit at about 30 training iterations where more iterations do not contribute to more accuracy\n",
    "- both decrease functions of MSE in C and B look continuous and smooth\n",
    "\n",
    "> In this constellation with an increased number of epochs we observe slightly more accurate predictions.\n",
    "\n",
    "> The correlation between the number of epochs and accuracy is not always predictable. It may depend on the dataset and the model architecture.\n",
    "Usually accuracy tends to increase with the number of epochs. But after a certain point, increasing the number of epochs can lead to overfitting. This can lead the accuracy to peak or even decrease.\n"
   ]
  },
  {
   "cell_type": "markdown",
   "id": "d12173f4-240b-48af-b42e-f5af1e46ff26",
   "metadata": {},
   "source": [
    "<a id=\"title_d\"></a>\n",
    "## D. Increase the number of hidden layers\n",
    "Repeat part B but use a neural network with the following instead:\n",
    "- Three hidden layers, each of 10 nodes and ReLU activation function.\n",
    "\n",
    "How does the mean of the mean squared errors compare to that from Step B?"
   ]
  },
  {
   "cell_type": "code",
   "execution_count": 49,
   "id": "f2d87f78-209f-4d1c-82a7-dc5470726136",
   "metadata": {},
   "outputs": [],
   "source": [
    "# define regression model with 3 hidden layers\n",
    "def regression_model_deep():\n",
    "    # create model\n",
    "    model = Sequential()\n",
    "    model.add(Dense(10, activation='relu', input_shape=(n_cols,))) # 1st hidden layer of 10 nodes, and a ReLU activation function\n",
    "    model.add(Dense(10, activation='relu')) # 2nd hidden layer of 10 nodes, and a ReLU activation function\n",
    "    model.add(Dense(10, activation='relu')) # 3rd hidden layer of 10 nodes, and a ReLU activation function\n",
    "    model.add(Dense(1))\n",
    "    \n",
    "    # compile model\n",
    "    model.compile(optimizer='adam', loss='mean_squared_error') # adam optimizer and the mean squared error  as the loss function\n",
    "    return model"
   ]
  },
  {
   "cell_type": "code",
   "execution_count": 52,
   "id": "9e60725f-5ae9-489a-ba23-f91bd87a1937",
   "metadata": {
    "tags": []
   },
   "outputs": [
    {
     "name": "stdout",
     "output_type": "stream",
     "text": [
      "Iteration 1 of 50 training and evaluation of model complete. MSE is : 100.4150\n",
      "Iteration 2 of 50 training and evaluation of model complete. MSE is : 52.4731\n",
      "Iteration 3 of 50 training and evaluation of model complete. MSE is : 43.3757\n",
      "Iteration 4 of 50 training and evaluation of model complete. MSE is : 40.0601\n",
      "Iteration 5 of 50 training and evaluation of model complete. MSE is : 36.5731\n",
      "Iteration 6 of 50 training and evaluation of model complete. MSE is : 35.9218\n",
      "Iteration 7 of 50 training and evaluation of model complete. MSE is : 34.0101\n",
      "Iteration 8 of 50 training and evaluation of model complete. MSE is : 34.0629\n",
      "Iteration 9 of 50 training and evaluation of model complete. MSE is : 34.2290\n",
      "Iteration 10 of 50 training and evaluation of model complete. MSE is : 34.2709\n",
      "Iteration 11 of 50 training and evaluation of model complete. MSE is : 34.4443\n",
      "Iteration 12 of 50 training and evaluation of model complete. MSE is : 33.4961\n",
      "Iteration 13 of 50 training and evaluation of model complete. MSE is : 34.3634\n",
      "Iteration 14 of 50 training and evaluation of model complete. MSE is : 34.3669\n",
      "Iteration 15 of 50 training and evaluation of model complete. MSE is : 33.5360\n",
      "Iteration 16 of 50 training and evaluation of model complete. MSE is : 33.2878\n",
      "Iteration 17 of 50 training and evaluation of model complete. MSE is : 31.9547\n",
      "Iteration 18 of 50 training and evaluation of model complete. MSE is : 32.2994\n",
      "Iteration 19 of 50 training and evaluation of model complete. MSE is : 31.8467\n",
      "Iteration 20 of 50 training and evaluation of model complete. MSE is : 31.5628\n",
      "Iteration 21 of 50 training and evaluation of model complete. MSE is : 32.2930\n",
      "Iteration 22 of 50 training and evaluation of model complete. MSE is : 32.8370\n",
      "Iteration 23 of 50 training and evaluation of model complete. MSE is : 32.0073\n",
      "Iteration 24 of 50 training and evaluation of model complete. MSE is : 31.9830\n",
      "Iteration 25 of 50 training and evaluation of model complete. MSE is : 31.8186\n",
      "Iteration 26 of 50 training and evaluation of model complete. MSE is : 32.3102\n",
      "Iteration 27 of 50 training and evaluation of model complete. MSE is : 31.0585\n",
      "Iteration 28 of 50 training and evaluation of model complete. MSE is : 31.0389\n",
      "Iteration 29 of 50 training and evaluation of model complete. MSE is : 31.9784\n",
      "Iteration 30 of 50 training and evaluation of model complete. MSE is : 31.0560\n",
      "Iteration 31 of 50 training and evaluation of model complete. MSE is : 33.1582\n",
      "Iteration 32 of 50 training and evaluation of model complete. MSE is : 30.4408\n",
      "Iteration 33 of 50 training and evaluation of model complete. MSE is : 31.1921\n",
      "Iteration 34 of 50 training and evaluation of model complete. MSE is : 30.4922\n",
      "Iteration 35 of 50 training and evaluation of model complete. MSE is : 30.8850\n",
      "Iteration 36 of 50 training and evaluation of model complete. MSE is : 30.9530\n",
      "Iteration 37 of 50 training and evaluation of model complete. MSE is : 30.5270\n",
      "Iteration 38 of 50 training and evaluation of model complete. MSE is : 30.7728\n",
      "Iteration 39 of 50 training and evaluation of model complete. MSE is : 32.2953\n",
      "Iteration 40 of 50 training and evaluation of model complete. MSE is : 31.9303\n",
      "Iteration 41 of 50 training and evaluation of model complete. MSE is : 31.4162\n",
      "Iteration 42 of 50 training and evaluation of model complete. MSE is : 31.9719\n",
      "Iteration 43 of 50 training and evaluation of model complete. MSE is : 31.9957\n",
      "Iteration 44 of 50 training and evaluation of model complete. MSE is : 32.2525\n",
      "Iteration 45 of 50 training and evaluation of model complete. MSE is : 32.9445\n",
      "Iteration 46 of 50 training and evaluation of model complete. MSE is : 32.6885\n",
      "Iteration 47 of 50 training and evaluation of model complete. MSE is : 32.3309\n",
      "Iteration 48 of 50 training and evaluation of model complete. MSE is : 32.5771\n",
      "Iteration 49 of 50 training and evaluation of model complete. MSE is : 32.3585\n",
      "Iteration 50 of 50 training and evaluation of model complete. MSE is : 32.9352\n",
      "\n",
      "\n",
      "The mean deviation of the mean squared error (MSE) on normalized test set: 34.6210\n",
      "The standard deviation of the mean squared error (MSE) on normalized test set: 10.0486\n"
     ]
    }
   ],
   "source": [
    "# build the model\n",
    "model_deep_50_norm = regression_model_deep()\n",
    "\n",
    "# Train and evaluate 50 times and calculate mean and standard deviation of the mean squared errors\n",
    "\n",
    "# mean squared errors\n",
    "mses_deep_50_norm = np.array([])\n",
    "\n",
    "for i in range(50):\n",
    "    # train/test split\n",
    "    X_train_deep_50_norm, X_test_deep_50_norm, y_train_deep_50, y_test_deep_50 = train_test_split(\n",
    "        predictors_norm, target, test_size=0.3, random_state=42\n",
    "    )\n",
    "\n",
    "    # fit the model\n",
    "    # verbose is set to 0 for clarity, increase if needed\n",
    "    model_deep_50_norm.fit(X_train_deep_50_norm, y_train_deep_50, epochs=50, verbose=0) # train with normalized training dataset and 50 epochs\n",
    "    # evaluate the model\n",
    "    mse_deep_50_norm = mean_squared_error(y_test_deep_50, model_deep_50_norm.predict(X_test_deep_50_norm))\n",
    "    mses_deep_50_norm = np.append(mses_deep_50_norm, mse_deep_50_norm, axis=None)\n",
    "    print(\"Iteration \" + str(i+1) + \" of 50 training and evaluation of model complete. MSE is : {:.4f}\".format(mse_deep_50_norm))  \n",
    "\n",
    "model_deep_50_norm_mse_mean = np.mean(mses_deep_50_norm, axis=0)\n",
    "model_deep_50_norm_mse_std = np.std(mses_deep_50_norm, axis=0)\n",
    "    \n",
    "print(\"\\n\")\n",
    "print(\"The mean deviation of the mean squared error (MSE) on normalized test set: {:.4f}\".format(model_deep_50_norm_mse_mean))\n",
    "print(\"The standard deviation of the mean squared error (MSE) on normalized test set: {:.4f}\".format(model_deep_50_norm_mse_std))"
   ]
  },
  {
   "cell_type": "markdown",
   "id": "f65ee2ce-db3f-47d2-bcb1-0d71181f211f",
   "metadata": {},
   "source": [
    "#### Compare the decrease of mean squared errors between shallow and deep model"
   ]
  },
  {
   "cell_type": "code",
   "execution_count": 53,
   "id": "6f14f8d3-2782-411d-97bf-5e8c0d9d3331",
   "metadata": {
    "tags": []
   },
   "outputs": [
    {
     "data": {
      "image/png": "[encoded data removed]",
      "text/plain": [
       "<Figure size 640x480 with 1 Axes>"
      ]
     },
     "metadata": {},
     "output_type": "display_data"
    }
   ],
   "source": [
    "# Plott MSE for shallow vs. deep model\n",
    "\n",
    "epoch_50_MSEs = mses_50_norm\n",
    "epoch_100_MSEs = mses_deep_50_norm\n",
    "iterations = np.arange(50)\n",
    "\n",
    "plt.title(\"Mean squared error (MSE) on shallow vs. deep model \")\n",
    "plt.xlabel(\"Training iteration\")\n",
    "plt.ylabel(\"Mean squared error (MSE)\")\n",
    "plt.grid(True)\n",
    "\n",
    "plt.scatter(iterations, epoch_50_MSEs, color=\"orange\", label=\"Shallow model\")\n",
    "plt.scatter(iterations, epoch_100_MSEs, color=\"green\", label=\"Deep model\")\n",
    "plt.legend()\n",
    "plt.show()"
   ]
  },
  {
   "cell_type": "markdown",
   "id": "90f0041d-489b-4c59-8c21-e8464b07c91c",
   "metadata": {},
   "source": [
    "#### Compare the mean of the mean squared errors between B and D\n",
    "\n",
    "When comparing D and B we observe the following:\n",
    "- the mean of the mean squared errors with a deeper network of 3 hidden layers in D is lower then in B with 1 hidden layer\n",
    "- the deep model D has the lower MSEs than in B\n",
    "- generally the mean squared errors decrease with the model depth (more hidden layers)\n",
    "- the model \"learns\" faster with more hidden layers, the MSEs decrease using less training iterations\n",
    "\n",
    "> With increased number of hidden layers we observe more accurate predictions in our constellation.\n",
    "However, defining the number of hidden layers is a difficult task. Large numbers of hidden layers can lead the network to lose its generalization ability and to overfitting.\n"
   ]
  },
  {
   "cell_type": "code",
   "execution_count": null,
   "id": "f56aae77-731b-4812-aee2-8306885cb017",
   "metadata": {},
   "outputs": [],
   "source": []
  }
 ],
 "metadata": {
  "kernelspec": {
   "display_name": "Python",
   "language": "python",
   "name": "conda-env-python-py"
  },
  "language_info": {
   "codemirror_mode": {
    "name": "ipython",
    "version": 3
   },
   "file_extension": ".py",
   "mimetype": "text/x-python",
   "name": "python",
   "nbconvert_exporter": "python",
   "pygments_lexer": "ipython3",
   "version": "3.7.12"
  }
 },
 "nbformat": 4,
 "nbformat_minor": 5
}
